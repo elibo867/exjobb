{
 "cells": [
  {
   "cell_type": "code",
   "execution_count": null,
   "metadata": {
    "collapsed": true
   },
   "outputs": [],
   "source": [
    "import numpy as np\n",
    "from sklearn.model_selection import train_test_split\n",
    "from keras.models import Sequential\n",
    "from keras.models import load_model \n",
    "from keras.layers import Conv3D, Activation, MaxPooling3D\n",
    "from keras.layers import BatchNormalization, Reshape, Dense\n",
    "from keras import optimizers\n",
    "from keras import losses"
   ]
  },
  {
   "cell_type": "code",
   "execution_count": 8,
   "metadata": {},
   "outputs": [
    {
     "name": "stdout",
     "output_type": "stream",
     "text": [
      "['T0518_arr_0', 'T0518_arr_1', 'T0518_arr_2', 'T0518_arr_3', 'T0518_arr_4', 'T0518_arr_5']\n",
      "['all_scores']\n",
      "(1, 11, 120, 120, 120)\n",
      "(2, 11, 120, 120, 120)\n",
      "(3, 11, 120, 120, 120)\n",
      "(4, 11, 120, 120, 120)\n"
     ]
    },
    {
     "data": {
      "text/plain": [
       "\"    \\n    #split the data into training (80%) and testing (20%)  \\n    x_train,x_test, y_train, y_test=train_test_split(\\n        x,y,test_size=0.2) #random_state=?? 42?? \\n\\n\\n\\nmodel=load_model('test_model.h5')\\nmodel.summary()\""
      ]
     },
     "execution_count": 8,
     "metadata": {},
     "output_type": "execute_result"
    }
   ],
   "source": [
    "\n",
    "density_arrays=np.load('../kodgrejer/T0518.npz')\n",
    "score_arrays=np.load('../kodgrejer/T0518_scores.npz')\n",
    "print density_arrays.files\n",
    "print score_arrays.files\n",
    "\n",
    "\n",
    "l=4\n",
    "\n",
    "x=np.zeros((11,120,120,120))\n",
    "#concatenate all protein density maps into one array with right shape \n",
    "#first, create array, thereafter add the rest! \n",
    "for i in range(l): \n",
    "    if i==0:   \n",
    "        x=np.expand_dims(density_arrays[density_arrays.files[i]], axis=0)\n",
    "        print x.shape\n",
    "    else: \n",
    "        x=np.concatenate((x,np.expand_dims(density_arrays[density_arrays.files[i]], axis=0)))\n",
    "        print x.shape\n",
    "            \n",
    "y=score_arrays['all_scores']\n",
    "   \n",
    "#split the data into training (80%) and testing (20%)  \n",
    "x_train,x_test, y_train, y_test=train_test_split(\n",
    "        x,y,test_size=0.2) #random_state=?? 42?? \n",
    "\n",
    "model=load_model('test_model.h5')\n"
   ]
  }
 ],
 "metadata": {
  "kernelspec": {
   "display_name": "Python 2",
   "language": "python",
   "name": "python2"
  },
  "language_info": {
   "codemirror_mode": {
    "name": "ipython",
    "version": 2
   },
   "file_extension": ".py",
   "mimetype": "text/x-python",
   "name": "python",
   "nbconvert_exporter": "python",
   "pygments_lexer": "ipython2",
   "version": "2.7.14"
  }
 },
 "nbformat": 4,
 "nbformat_minor": 2
}
