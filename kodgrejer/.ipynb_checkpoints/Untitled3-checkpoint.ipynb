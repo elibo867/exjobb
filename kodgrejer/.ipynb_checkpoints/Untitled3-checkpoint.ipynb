{
 "cells": [
  {
   "cell_type": "code",
   "execution_count": 8,
   "metadata": {},
   "outputs": [
    {
     "name": "stdout",
     "output_type": "stream",
     "text": [
      "(11, 120, 120, 120)\n",
      "(38016000,)\n",
      "(57024000,)\n",
      "(76032000,)\n",
      "(95040000,)\n",
      "(114048000,)\n"
     ]
    }
   ],
   "source": [
    "import numpy as np\n",
    "density_arrays=np.load('T0518.npz')\n",
    "#score_arrays=np.load('T0518_scores.npz')\n",
    "\n",
    "l=len(density_arrays.files)\n",
    "x=np.zeros((11,120,120,120))\n",
    "\n",
    "\n",
    "for i in range(l): \n",
    "    if i==0:   \n",
    "        x=density_arrays[density_arrays.files[i]]\n",
    "        print x.shape\n",
    "    else: \n",
    "        x=np.append(x,[[density_arrays[density_arrays.files[i]]]])\n",
    "        print x.shape\n",
    "\n"
   ]
  },
  {
   "cell_type": "code",
   "execution_count": 3,
   "metadata": {},
   "outputs": [
    {
     "data": {
      "text/plain": [
       "[0, 1, 2, 3, 4, 5]"
      ]
     },
     "execution_count": 3,
     "metadata": {},
     "output_type": "execute_result"
    }
   ],
   "source": [
    "range(6)"
   ]
  },
  {
   "cell_type": "code",
   "execution_count": null,
   "metadata": {
    "collapsed": true
   },
   "outputs": [],
   "source": []
  }
 ],
 "metadata": {
  "kernelspec": {
   "display_name": "Python 2",
   "language": "python",
   "name": "python2"
  },
  "language_info": {
   "codemirror_mode": {
    "name": "ipython",
    "version": 2
   },
   "file_extension": ".py",
   "mimetype": "text/x-python",
   "name": "python",
   "nbconvert_exporter": "python",
   "pygments_lexer": "ipython2",
   "version": "2.7.14"
  }
 },
 "nbformat": 4,
 "nbformat_minor": 2
}
