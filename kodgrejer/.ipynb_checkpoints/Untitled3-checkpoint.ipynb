{
 "cells": [
  {
   "cell_type": "code",
   "execution_count": 39,
   "metadata": {},
   "outputs": [
    {
     "name": "stdout",
     "output_type": "stream",
     "text": [
      "arr_0\n",
      "arr_1\n",
      "arr_2\n",
      "arr_3\n",
      "arr_4\n",
      "arr_5\n"
     ]
    }
   ],
   "source": [
    "import numpy as np\n",
    "density_arrays=np.load('T0518.npz')\n",
    "#score_arrays=np.load('T0518_scores.npz')\n",
    "\n",
    "l=len(density_arrays.files)\n",
    "x=np.zeros((l,11,120,120,120))\n",
    "\n",
    "\n",
    "for i in range(l): \n",
    "    x[i, :, : , :]=density_arrays[density_arrays.files[i]]\n",
    "    \n",
    "    \n",
    "\n",
    "\n",
    "#x=ndarray(zeroes())"
   ]
  },
  {
   "cell_type": "code",
   "execution_count": 31,
   "metadata": {},
   "outputs": [
    {
     "data": {
      "text/plain": [
       "6"
      ]
     },
     "execution_count": 31,
     "metadata": {},
     "output_type": "execute_result"
    }
   ],
   "source": [
    "len(density_arrays.files)"
   ]
  },
  {
   "cell_type": "code",
   "execution_count": null,
   "metadata": {
    "collapsed": true
   },
   "outputs": [],
   "source": []
  }
 ],
 "metadata": {
  "kernelspec": {
   "display_name": "Python 2",
   "language": "python",
   "name": "python2"
  },
  "language_info": {
   "codemirror_mode": {
    "name": "ipython",
    "version": 2
   },
   "file_extension": ".py",
   "mimetype": "text/x-python",
   "name": "python",
   "nbconvert_exporter": "python",
   "pygments_lexer": "ipython2",
   "version": "2.7.14"
  }
 },
 "nbformat": 4,
 "nbformat_minor": 2
}
