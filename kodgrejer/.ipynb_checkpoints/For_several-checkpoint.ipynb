{
 "cells": [
  {
   "cell_type": "code",
   "execution_count": null,
   "metadata": {
    "collapsed": true
   },
   "outputs": [],
   "source": [
    "import Get_Densities\n",
    "import Get_GDT_TS\n",
    "import sys\n",
    "import os\n",
    "import re\n",
    "import numpy as np\n",
    "import zipfile\n"
   ]
  },
  {
   "cell_type": "code",
   "execution_count": null,
   "metadata": {
    "collapsed": true
   },
   "outputs": [],
   "source": [
    "def make_4Darray(filename):\n",
    "    '''Extract density maps from dictionary to np.array'''\n",
    "    #get the dictionary with atom densities - why not do an array immediately?\n",
    "    density_dict=Get_Densities.main(filename)\n",
    "    \n",
    "    #Concatenate the 11 maps into one single array\n",
    "    for key in sorted(density_dict): \n",
    "        #The first time, need to  create the new array\n",
    "        if key==1: \n",
    "            density_array=np.expand_dims((density_dict[key]),axis=0)\n",
    "        else:\n",
    "            density_array=np.concatenate((density_array, np.expand_dims((density_dict[key]),axis=0)), axis=0)\n",
    "            \n",
    "    return density_array"
   ]
  },
  {
   "cell_type": "code",
   "execution_count": null,
   "metadata": {
    "collapsed": true
   },
   "outputs": [],
   "source": [
    "def get_target(filename):\n",
    "    f=open(filename)\n",
    "    f.close()\n",
    "    f_path=os.path.realpath(f.name)\n",
    "    \n",
    "    #Looking at the path to see which target that's beeing processed\n",
    "    target_match=re.search('(T\\d\\d\\d\\d)',f_path)\n",
    "    \n",
    "    if target_match:\n",
    "        target_name=target_match.group(1)\n",
    "    \n",
    "        return target_name \n",
    "    \n",
    "    "
   ]
  },
  {
   "cell_type": "code",
   "execution_count": null,
   "metadata": {
    "collapsed": true
   },
   "outputs": [],
   "source": [
    "def main():\n",
    "    \n",
    "    filenames=sys.argv[1:]\n",
    "    #for every file create 11 densitymaps. \n",
    "    print ('Computing atom densities')\n",
    "    counter=1\n",
    "    no_passed=0\n",
    "    all_arrays=[]\n",
    "    all_scores=[]\n",
    "    \n",
    "    target_name=get_target(filenames[0])\n",
    "    zip_name=target_name+'.npz'\n",
    "    os.remove(zip_name)\n",
    "    \n",
    "    with zipfile.ZipFile(zip_name, mode='a', compression=zipfile.ZIP_DEFLATED) as zf:\n",
    "        for filename in filenames: \n",
    "        \n",
    "            if counter==1 or counter%5==0:\n",
    "                print (counter,'of', len(filenames))\n",
    "        \n",
    "            #Try to create densitymaps and collect GDT score. If it doesn't work - \n",
    "            try: \n",
    "                #compute the 11 density maps\n",
    "                #dens_array=make_4Darray(filename)\n",
    "                dens_array=Get_Densities.main(filename)\n",
    "                #create list of arrays: [all_maps_prot1, all_maps_prot2,...] \n",
    "                #all_arrays.append(dens_array)\n",
    "            \n",
    "                #find GDT_TS score - if it exists. Otherwise, returns 'No GDT_TS-score in TM file' \n",
    "                filename=filename+('.fixed.TM')\n",
    "                GDT=Get_GDT_TS.main(filename)\n",
    "            \n",
    "                #If there is no GDT score in the TM file \n",
    "                if isinstance(GDT, str):\n",
    "                    print (GDT)\n",
    "                    print(filename)\n",
    "                    no_passed+=1\n",
    "                    counter+=1\n",
    "                    continue\n",
    "                tmpfilename='arr_{}.npy'.format(counter-1-no_passed)\n",
    "                np.save(tmpfilename, dens_array)\n",
    "                zf.write(tmpfilename)\n",
    "                \n",
    "                os.remove(tmpfilename)\n",
    "                \n",
    "                all_scores.append(GDT)\n",
    "                counter+=1\n",
    "        \n",
    "            except Exception as e:\n",
    "                print (e)\n",
    "                print (filename)\n",
    "                no_passed+=1\n",
    "                counter+=1\n",
    "                continue\n",
    "    \n",
    "    if counter!=2 and (counter+1)%5!=0:\n",
    "        print (counter-1,'of', len(filenames))\n",
    "    \n",
    "    \n",
    "    \n",
    "    \n",
    "\n",
    "    #generates zip_file with one array shape (x,11,120,120,120) where x is number of proteins used\n",
    "    np.savez_compressed(target_name+'_scores', all_scores=all_scores)\n",
    "    print (no_passed, 'files ignored')\n",
    "\n",
    "        \n",
    "main()"
   ]
  }
 ],
 "metadata": {
  "kernelspec": {
   "display_name": "Python 2",
   "language": "python",
   "name": "python2"
  },
  "language_info": {
   "codemirror_mode": {
    "name": "ipython",
    "version": 2
   },
   "file_extension": ".py",
   "mimetype": "text/x-python",
   "name": "python",
   "nbconvert_exporter": "python",
   "pygments_lexer": "ipython2",
   "version": "2.7.14"
  }
 },
 "nbformat": 4,
 "nbformat_minor": 2
}
