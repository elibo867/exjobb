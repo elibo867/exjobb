{
 "cells": [
  {
   "cell_type": "code",
   "execution_count": null,
   "metadata": {},
   "outputs": [
    {
     "name": "stdout",
     "output_type": "stream",
     "text": [
      "(1, 11, 120, 120, 120)\n",
      "(2, 11, 120, 120, 120)\n",
      "(3, 11, 120, 120, 120)\n",
      "(4, 11, 120, 120, 120)\n",
      "(5, 11, 120, 120, 120)\n",
      "(6, 11, 120, 120, 120)\n",
      "(7, 11, 120, 120, 120)\n",
      "(8, 11, 120, 120, 120)\n",
      "(9, 11, 120, 120, 120)\n",
      "(10, 11, 120, 120, 120)\n",
      "(11, 11, 120, 120, 120)\n",
      "(12, 11, 120, 120, 120)\n",
      "(13, 11, 120, 120, 120)\n",
      "(14, 11, 120, 120, 120)\n",
      "(15, 11, 120, 120, 120)\n",
      "(16, 11, 120, 120, 120)\n",
      "(17, 11, 120, 120, 120)\n",
      "(18, 11, 120, 120, 120)\n",
      "(19, 11, 120, 120, 120)\n",
      "(20, 11, 120, 120, 120)\n",
      "(21, 11, 120, 120, 120)\n",
      "(22, 11, 120, 120, 120)\n",
      "(23, 11, 120, 120, 120)\n",
      "(24, 11, 120, 120, 120)\n",
      "(25, 11, 120, 120, 120)\n",
      "(26, 11, 120, 120, 120)\n",
      "(27, 11, 120, 120, 120)\n"
     ]
    }
   ],
   "source": [
    "import numpy as np\n",
    "\n",
    "density_arrays=np.load('../../../proj/x_elibo/generate_dataset/casp9/casp9_results/T0515.npz')\n",
    "score_arrays=np.load('../../../proj/x_elibo/generate_dataset/casp9/casp9_results/T0515_scores.npz')\n",
    "\n",
    "l=len(density_arrays.files)\n",
    "\n",
    "\n",
    "x=np.zeros((11,120,120,120))\n",
    "\n",
    "#concatenate all protein density maps into one array with right shape \n",
    "for i in range(l): \n",
    "    if i==0:   \n",
    "        x=np.expand_dims(density_arrays[density_arrays.files[i]], axis=0)\n",
    "        print x.shape\n",
    "    else: \n",
    "        x=np.concatenate((x,np.expand_dims(density_arrays[density_arrays.files[i]], axis=0)))\n",
    "        print x.shape\n"
   ]
  },
  {
   "cell_type": "code",
   "execution_count": 3,
   "metadata": {},
   "outputs": [
    {
     "data": {
      "text/plain": [
       "[0, 1, 2, 3, 4, 5]"
      ]
     },
     "execution_count": 3,
     "metadata": {},
     "output_type": "execute_result"
    }
   ],
   "source": []
  },
  {
   "cell_type": "code",
   "execution_count": null,
   "metadata": {
    "collapsed": true
   },
   "outputs": [],
   "source": []
  }
 ],
 "metadata": {
  "kernelspec": {
   "display_name": "Python 2",
   "language": "python",
   "name": "python2"
  },
  "language_info": {
   "codemirror_mode": {
    "name": "ipython",
    "version": 2
   },
   "file_extension": ".py",
   "mimetype": "text/x-python",
   "name": "python",
   "nbconvert_exporter": "python",
   "pygments_lexer": "ipython2",
   "version": "2.7.14"
  }
 },
 "nbformat": 4,
 "nbformat_minor": 2
}
