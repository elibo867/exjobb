{
 "cells": [
  {
   "cell_type": "code",
   "execution_count": null,
   "metadata": {
    "collapsed": true
   },
   "outputs": [],
   "source": [
    "import Get_Densities\n",
    "import Get_GDT_TS\n",
    "import sys\n",
    "import numpy as np\n"
   ]
  },
  {
   "cell_type": "code",
   "execution_count": null,
   "metadata": {
    "collapsed": true
   },
   "outputs": [],
   "source": [
    "def make_4Darray(filename):\n",
    "    '''Extract density maps from dictionary to np.array'''\n",
    "    #get the dictionary with atom densities - why not do an array immediately?\n",
    "    density_dict=Get_Densities.main(filename)\n",
    "    \n",
    "    #Concatenate the 11 maps into one single array\n",
    "    for key in sorted(density_dict): \n",
    "        #The first time, need to  create the new array\n",
    "        if key==1: \n",
    "            density_array=np.expand_dims((density_dict[key]),axis=0)\n",
    "        else:\n",
    "            density_array=np.concatenate((density_array, np.expand_dims((density_dict[key]),axis=0)), axis=0)\n",
    "            \n",
    "    return density_array"
   ]
  },
  {
   "cell_type": "code",
   "execution_count": null,
   "metadata": {
    "collapsed": true
   },
   "outputs": [],
   "source": [
    "def main():\n",
    "    \n",
    "    filenames=sys.argv[1:]\n",
    "    #for every file create 11 densitymaps. Generates dict of dicts. Kanske inte är smart?\n",
    "    print ('Computing atom densities')\n",
    "    counter=1\n",
    "    no_passed=0\n",
    "    all_arrays=[]\n",
    "    all_scores=[]\n",
    "    \n",
    "\n",
    "    for filename in filenames: \n",
    "        print (counter),('of'), (len(filenames))\n",
    "        \n",
    "        #Try to create densitymaps and collect GDT score\n",
    "        try: \n",
    "            #compute the 11 density maps\n",
    "            dens_array=make_4Darray(filename)\n",
    "            #create list of arrays: [all_maps_prot1, all_maps_prot2,...] \n",
    "            all_arrays.append(dens_array)\n",
    "            \n",
    "            #find GDT_TS score\n",
    "            filename=filename+('.fixed.TM')\n",
    "            GDT=Get_GDT_TS.main(filename)\n",
    "            all_scores.append(GDT)\n",
    "            \n",
    "            counter+=1\n",
    "        \n",
    "        except IOError: \n",
    "            print 'cannot find', filename\n",
    "            no_passed+=1\n",
    "            counter+=1\n",
    "            continue\n",
    "    \n",
    "\n",
    "    #generates zip_file with one array shape (x,11,120,120,120) where x is number of proteins used\n",
    "    #np.savez_compressed('test_data_3prot', all_arrays=all_arrays, all_scores=all_scores)\n",
    "    print no_passed, 'files passed'\n",
    "    print ('ready')\n",
    "\n",
    "        \n",
    "main()"
   ]
  }
 ],
 "metadata": {
  "kernelspec": {
   "display_name": "Python 2",
   "language": "python",
   "name": "python2"
  },
  "language_info": {
   "codemirror_mode": {
    "name": "ipython",
    "version": 2
   },
   "file_extension": ".py",
   "mimetype": "text/x-python",
   "name": "python",
   "nbconvert_exporter": "python",
   "pygments_lexer": "ipython2",
   "version": "2.7.14"
  }
 },
 "nbformat": 4,
 "nbformat_minor": 2
}
