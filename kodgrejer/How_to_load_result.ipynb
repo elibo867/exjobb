{
 "cells": [
  {
   "cell_type": "code",
   "execution_count": null,
   "metadata": {},
   "outputs": [],
   "source": [
    "import numpy as np\n",
    "\n",
    "density_arrays=np.load('../../../proj/x_elibo/generate_dataset/casp9/casp9_results/T0515.npz')\n",
    "score_arrays=np.load('../../../proj/x_elibo/generate_dataset/casp9/casp9_results/T0515_scores.npz')\n",
    "\n",
    "l=len(density_arrays.files)\n",
    "\n",
    "\n",
    "x=np.zeros((11,120,120,120))\n",
    "#concatenate all protein density maps into one array with right shape \n",
    "#first, create array, thereafter add the rest! \n",
    "for i in range(l): \n",
    "    if i==0:   \n",
    "        x=np.expand_dims(density_arrays[density_arrays.files[i]], axis=0)\n",
    "    else: \n",
    "        x=np.concatenate((x,np.expand_dims(density_arrays[density_arrays.files[i]], axis=0)))\n"
   ]
  },
  {
   "cell_type": "code",
   "execution_count": null,
   "metadata": {},
   "outputs": [],
   "source": []
  },
  {
   "cell_type": "code",
   "execution_count": null,
   "metadata": {
    "collapsed": true
   },
   "outputs": [],
   "source": []
  }
 ],
 "metadata": {
  "kernelspec": {
   "display_name": "Python 2",
   "language": "python",
   "name": "python2"
  },
  "language_info": {
   "codemirror_mode": {
    "name": "ipython",
    "version": 2
   },
   "file_extension": ".py",
   "mimetype": "text/x-python",
   "name": "python",
   "nbconvert_exporter": "python",
   "pygments_lexer": "ipython2",
   "version": "2.7.14"
  }
 },
 "nbformat": 4,
 "nbformat_minor": 2
}
