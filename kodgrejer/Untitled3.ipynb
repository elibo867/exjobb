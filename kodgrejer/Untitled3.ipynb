{
 "cells": [
  {
   "cell_type": "code",
   "execution_count": 141,
   "metadata": {},
   "outputs": [
    {
     "name": "stdout",
     "output_type": "stream",
     "text": [
      "(1, 11, 120, 120, 120)\n",
      "(2, 11, 120, 120, 120)\n",
      "(3, 11, 120, 120, 120)\n",
      "(4, 11, 120, 120, 120)\n"
     ]
    }
   ],
   "source": [
    "import numpy as np\n",
    "\n",
    "density_arrays=np.load('T0515_TEST.npz')\n",
    "score_arrays=np.load('T0515_scores.npz')\n",
    "\n",
    "l=len(density_arrays.files)\n",
    "#print density_arrays['arr_0']\n",
    "#print density_arrays.shape\n",
    "\n",
    "\n",
    "#print density_arrays['arr_0'].item()[1].shape\n",
    "\n",
    "x=np.zeros((11,120,120,120))\n",
    "\n",
    "\n",
    "\n",
    "for i in range(l): \n",
    "    if i==0:   \n",
    "        x=np.expand_dims(density_arrays[density_arrays.files[i]], axis=0)\n",
    "        print x.shape\n",
    "    else: \n",
    "        x=np.concatenate((x,np.expand_dims(density_arrays[density_arrays.files[i]], axis=0)))\n",
    "        print x.shape\n"
   ]
  },
  {
   "cell_type": "code",
   "execution_count": 3,
   "metadata": {},
   "outputs": [
    {
     "data": {
      "text/plain": [
       "[0, 1, 2, 3, 4, 5]"
      ]
     },
     "execution_count": 3,
     "metadata": {},
     "output_type": "execute_result"
    }
   ],
   "source": []
  },
  {
   "cell_type": "code",
   "execution_count": null,
   "metadata": {
    "collapsed": true
   },
   "outputs": [],
   "source": []
  }
 ],
 "metadata": {
  "kernelspec": {
   "display_name": "Python 2",
   "language": "python",
   "name": "python2"
  },
  "language_info": {
   "codemirror_mode": {
    "name": "ipython",
    "version": 2
   },
   "file_extension": ".py",
   "mimetype": "text/x-python",
   "name": "python",
   "nbconvert_exporter": "python",
   "pygments_lexer": "ipython2",
   "version": "2.7.14"
  }
 },
 "nbformat": 4,
 "nbformat_minor": 2
}
