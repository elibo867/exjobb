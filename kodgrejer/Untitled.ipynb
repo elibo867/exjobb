{
 "cells": [
  {
   "cell_type": "code",
   "execution_count": 21,
   "metadata": {},
   "outputs": [
    {
     "name": "stdout",
     "output_type": "stream",
     "text": [
      "[0.6475 0.2444 0.1888 0.7383 0.1859 0.6164 0.709  0.25   0.7166]\n"
     ]
    }
   ],
   "source": [
    "import numpy as np\n",
    "training_array=np.load('training_data_6prot.npz')\n",
    "testing_array=np.load('test_data_3prot.npz')\n",
    "y=np.concatenate((training_array['all_scores'],testing_array['all_scores']),axis=0)\n",
    "print y\n"
   ]
  }
 ],
 "metadata": {
  "kernelspec": {
   "display_name": "Python 2",
   "language": "python",
   "name": "python2"
  },
  "language_info": {
   "codemirror_mode": {
    "name": "ipython",
    "version": 2
   },
   "file_extension": ".py",
   "mimetype": "text/x-python",
   "name": "python",
   "nbconvert_exporter": "python",
   "pygments_lexer": "ipython2",
   "version": "2.7.14"
  }
 },
 "nbformat": 4,
 "nbformat_minor": 2
}
