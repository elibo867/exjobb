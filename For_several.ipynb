{
 "cells": [
  {
   "cell_type": "code",
   "execution_count": null,
   "metadata": {
    "collapsed": true
   },
   "outputs": [],
   "source": [
    "import Get_Densities\n",
    "import sys\n",
    "\n",
    "\n",
    "def main():\n",
    "    density_maps={}\n",
    "    filenames=sys.argv[1:]\n",
    "    #for every file create 11 densitymaps. Generates dict of dicts. Kanske inte är smart?\n",
    "    print 'Computing atom densities'\n",
    "    counter=1\n",
    "    for filename in filenames: \n",
    "        density_maps[filename]=Get_Densities.main(filename)\n",
    "        print counter, 'of', len(filenames)\n",
    "        counter+=1\n",
    "        \n",
    "    print 'ready'\n",
    "        \n",
    "main()\n"
   ]
  }
 ],
 "metadata": {
  "kernelspec": {
   "display_name": "Python 2",
   "language": "python",
   "name": "python2"
  },
  "language_info": {
   "codemirror_mode": {
    "name": "ipython",
    "version": 2
   },
   "file_extension": ".py",
   "mimetype": "text/x-python",
   "name": "python",
   "nbconvert_exporter": "python",
   "pygments_lexer": "ipython2",
   "version": "2.7.14"
  }
 },
 "nbformat": 4,
 "nbformat_minor": 2
}
