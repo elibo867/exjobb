{
 "cells": [
  {
   "cell_type": "code",
   "execution_count": 2,
   "metadata": {},
   "outputs": [
    {
     "name": "stdout",
     "output_type": "stream",
     "text": [
      "{('MET', 'CB'): 'carbon_sp3', ('MSE', 'CB'): 'carbon_sp3', ('ARG', 'CB'): 'carbon_sp3', ('VAL', 'CG1'): 'carbon_sp3', ('MET', 'CG'): 'carbon_sp3', ('LYS', 'CE'): 'carbon_sp3', ('LEU', 'CB'): 'carbon_sp3', ('ASP', 'CB'): 'carbon_sp3', ('ARG', 'CG'): 'carbon_sp3', ('PHE', 'CB'): 'carbon_sp3', ('LEU', 'CD2'): 'carbon_sp3', ('GLU', 'CB'): 'carbon_sp3', ('TYR', 'CB'): 'carbon_sp3', ('CYS', 'CB'): 'carbon_sp3', ('LEU', 'CG'): 'carbon_sp3', ('ILE', 'CD1'): 'carbon_sp3', ('ILE', 'CG1'): 'carbon_sp3', ('SER', 'CB'): 'carbon_sp3', ('GLU', 'CG'): 'carbon_sp3', ('VAL', 'CG2'): 'carbon_sp3', ('VAL', 'CB'): 'carbon_sp3', ('LYS', 'CD'): 'carbon_sp3', ('PRO', 'CG'): 'carbon_sp3', ('ILE', 'CB'): 'carbon_sp3', ('ALA', 'CB'): 'carbon_sp3', ('GLN', 'CG'): 'carbon_sp3', ('ILE', 'CG3'): 'carbon_sp3', ('ILE', 'CG2'): 'carbon_sp3', ('PRO', 'CB'): 'carbon_sp3', ('LEU', 'CD3'): 'carbon_sp3', ('HIS', 'CB'): 'carbon_sp3', ('LYS', 'CB'): 'carbon_sp3', ('GLN', 'CB'): 'carbon_sp3', ('MSE', 'CE'): 'carbon_sp3', ('ARG', 'CD'): 'carbon_sp3', ('VAL', 'CG3'): 'carbon_sp3', ('MET', 'CE'): 'carbon_sp3', ('LEU', 'CD1'): 'carbon_sp3', ('LYS', 'CG'): 'carbon_sp3', ('ASN', 'CB'): 'carbon_sp3', ('THR', 'CG2'): 'carbon_sp3', ('PRO', 'CD'): 'carbon_sp3', ('MSE', 'CG'): 'carbon_sp3', ('THR', 'CB'): 'carbon_sp3', ('TRP', 'CB'): 'carbon_sp3'}\n"
     ]
    }
   ],
   "source": [
    "atom_types_dict={('ALA', 'CB') : 'carbon_sp3',\n",
    "                ('ARG', 'CB') : 'carbon_sp3',\n",
    "                ('ARG', 'CG') : 'carbon_sp3',\n",
    "                ('ARG', 'CD') : 'carbon_sp3',\n",
    "                ('ASN', 'CB'): 'carbon_sp3' ,\n",
    "                ( 'ASP', 'CB') : 'carbon_sp3',\n",
    "                ('CYS', 'CB') : 'carbon_sp3',\n",
    "                ('GLN', 'CB') : 'carbon_sp3',\n",
    "                ('GLN', 'CG') : 'carbon_sp3',\n",
    "                ('GLU', 'CB') : 'carbon_sp3',\n",
    "                ('GLU', 'CG') : 'carbon_sp3' ,\n",
    "                ('HIS', 'CB') : 'carbon_sp3' ,\n",
    "                ('ILE' , 'CB') : 'carbon_sp3',\n",
    "                ('ILE' , 'CG1') : 'carbon_sp3',\n",
    "                ('ILE' , 'CG2') : 'carbon_sp3',\n",
    "                ('ILE' , 'CG3') : 'carbon_sp3',\n",
    "                ('ILE' , 'CD1') : 'carbon_sp3',\n",
    "                ('LEU' , 'CB') : 'carbon_sp3',\n",
    "                ('LEU' , 'CG') : 'carbon_sp3',\n",
    "                ('LEU' , 'CD1') : 'carbon_sp3',\n",
    "                ('LEU' , 'CD2') : 'carbon_sp3',\n",
    "                ('LEU' , 'CD3') : 'carbon_sp3',\n",
    "                ('LYS' , 'CB') : 'carbon_sp3',\n",
    "                ('LYS' , 'CG') : 'carbon_sp3',\n",
    "                ('LYS' , 'CD') : 'carbon_sp3',\n",
    "                ('LYS' , 'CE') : 'carbon_sp3',\n",
    "                ('MET' , 'CB') : 'carbon_sp3',\n",
    "                ('MET' , 'CG') : 'carbon_sp3',\n",
    "                ('MET' , 'CE') : 'carbon_sp3',\n",
    "                ('MSE' , 'CB') : 'carbon_sp3',\n",
    "                ('MSE' , 'CG') : 'carbon_sp3',\n",
    "                ('MSE' , 'CE') : 'carbon_sp3',\n",
    "                ('PHE' , 'CB') : 'carbon_sp3',\n",
    "                ('PRO' , 'CB') : 'carbon_sp3',\n",
    "                ('PRO' , 'CG') : 'carbon_sp3',\n",
    "                ('PRO' , 'CD') : 'carbon_sp3',\n",
    "                ('SER' , 'CB') : 'carbon_sp3',\n",
    "                ('THR' , 'CB') : 'carbon_sp3',\n",
    "                ('THR' , 'CG2') : 'carbon_sp3',\n",
    "                ('TRP' , 'CB') : 'carbon_sp3',\n",
    "                ('TYR' , 'CB') : 'carbon_sp3',\n",
    "                ('VAL' , 'CB') : 'carbon_sp3', \n",
    "                ('VAL' , 'CG1') : 'carbon_sp3',\n",
    "                ('VAL' , 'CG2') : 'carbon_sp3',\n",
    "                ('VAL' , 'CG3') : 'carbon_sp3',\n",
    "                #and backbone CA - but don't know how\n",
    "                }\n",
    "\n",
    "print atom_types_dict"
   ]
  }
 ],
 "metadata": {
  "kernelspec": {
   "display_name": "Python 2",
   "language": "python",
   "name": "python2"
  },
  "language_info": {
   "codemirror_mode": {
    "name": "ipython",
    "version": 2
   },
   "file_extension": ".py",
   "mimetype": "text/x-python",
   "name": "python",
   "nbconvert_exporter": "python",
   "pygments_lexer": "ipython2",
   "version": "2.7.14"
  }
 },
 "nbformat": 4,
 "nbformat_minor": 2
}
