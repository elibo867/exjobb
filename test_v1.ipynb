{
 "cells": [
  {
   "cell_type": "code",
   "execution_count": 64,
   "metadata": {
    "collapsed": true
   },
   "outputs": [],
   "source": [
    "\n",
    "from Bio.PDB import *"
   ]
  },
  {
   "cell_type": "code",
   "execution_count": 65,
   "metadata": {},
   "outputs": [],
   "source": [
    "parser=PDBParser()\n",
    "structure=parser.get_structure('test', 'HHpredAQ_TS1.pdb')\n",
    "atoms=structure.get_atoms()"
   ]
  },
  {
   "cell_type": "code",
   "execution_count": 66,
   "metadata": {},
   "outputs": [],
   "source": [
    "#create atom dict w/ atom serial number as key // (w/ atom name & coordinates. Using the atom serial number as key\n",
    "atom_dict={}\n",
    "\n",
    "atom_id=0\n",
    "for atom in atoms: \n",
    "    atom_dict[atom_id]=[atom]\n",
    "    #atom_dict[atom_id]=[(atom.get_parent()).get_resname(), atom.get_name(), atom.get_coord()]\n",
    "    atom_id+=1\n",
    "    \n",
    "    \n"
   ]
  },
  {
   "cell_type": "code",
   "execution_count": 67,
   "metadata": {},
   "outputs": [],
   "source": [
    "#dictionary of atomtypes \n",
    "atom_types_dict={('ALA', 'CB') : 'carbon_sp3',\n",
    "                ('ARG', 'CB') : 'carbon_sp3',\n",
    "                ('ARG', 'CG') : 'carbon_sp3',\n",
    "                ('ARG', 'CD') : 'carbon_sp3',\n",
    "                ('ASN', 'CB'): 'carbon_sp3' , \n",
    "                ( 'ASP', 'CB') : 'carbon_sp3', \n",
    "                ('CYS', 'CB') : 'carbon_sp3', \n",
    "                ('GLN', 'CB') : 'carbon_sp3',\n",
    "                ('GLN', 'CG') : 'carbon_sp3',\n",
    "                ('GLU', 'CB') : 'carbon_sp3',\n",
    "                ('GLU', 'CG') : 'carbon_sp3' ,\n",
    "                ('HIS', 'CB') : 'carbon_sp3' ,\n",
    "                ('ILE' , 'CB') : 'carbon_sp3',\n",
    "                ('ILE' , 'CG1') : 'carbon_sp3',\n",
    "                ('ILE' , 'CG2') : 'carbon_sp3',\n",
    "                ('ILE' , 'CG3') : 'carbon_sp3',\n",
    "                ('ILE' , 'CD1') : 'carbon_sp3',\n",
    "                ('LEU' , 'CB') : 'carbon_sp3',\n",
    "                ('LEU' , 'CG') : 'carbon_sp3',\n",
    "                ('LEU' , 'CD1') : 'carbon_sp3',\n",
    "                ('LEU' , 'CD2') : 'carbon_sp3',\n",
    "                ('LEU' , 'CD3') : 'carbon_sp3',\n",
    "                ('LYS' , 'CB') : 'carbon_sp3',\n",
    "                ('LYS' , 'CG') : 'carbon_sp3',\n",
    "                ('LYS' , 'CD') : 'carbon_sp3',\n",
    "                ('LYS' , 'CE') : 'carbon_sp3',\n",
    "                ('MET' , 'CB') : 'carbon_sp3',\n",
    "                ('MET' , 'CG') : 'carbon_sp3',\n",
    "                ('MET' , 'CE') : 'carbon_sp3',\n",
    "                ('MSE' , 'CB') : 'carbon_sp3',\n",
    "                ('MSE' , 'CG') : 'carbon_sp3',\n",
    "                ('MSE' , 'CE') : 'carbon_sp3',\n",
    "                ('PHE' , 'CB') : 'carbon_sp3',\n",
    "                ('PRO' , 'CB') : 'carbon_sp3',\n",
    "                ('PRO' , 'CG') : 'carbon_sp3',\n",
    "                ('PRO' , 'CD') : 'carbon_sp3',\n",
    "                ('SER' , 'CB') : 'carbon_sp3',\n",
    "                ('THR' , 'CB') : 'carbon_sp3',\n",
    "                ('THR' , 'CG2') : 'carbon_sp3',\n",
    "                ('TRP' , 'CB') : 'carbon_sp3',\n",
    "                ('TYR' , 'CB') : 'carbon_sp3',\n",
    "                ('VAL' , 'CB') : 'carbon_sp3', \n",
    "                ('VAL' , 'CG1') : 'carbon_sp3',\n",
    "                ('VAL' , 'CG2') : 'carbon_sp3',\n",
    "                ('VAL' , 'CG3') : 'carbon_sp3',}"
   ]
  },
  {
   "cell_type": "code",
   "execution_count": null,
   "metadata": {},
   "outputs": [],
   "source": [
    " "
   ]
  }
 ],
 "metadata": {
  "kernelspec": {
   "display_name": "Python 2",
   "language": "python",
   "name": "python2"
  },
  "language_info": {
   "codemirror_mode": {
    "name": "ipython",
    "version": 2
   },
   "file_extension": ".py",
   "mimetype": "text/x-python",
   "name": "python",
   "nbconvert_exporter": "python",
   "pygments_lexer": "ipython2",
   "version": "2.7.14"
  }
 },
 "nbformat": 4,
 "nbformat_minor": 2
}
